{
 "cells": [
  {
   "cell_type": "code",
   "id": "initial_id",
   "metadata": {
    "collapsed": true,
    "ExecuteTime": {
     "end_time": "2024-07-10T13:52:17.509508Z",
     "start_time": "2024-07-10T13:52:17.501947Z"
    }
   },
   "source": "import os",
   "outputs": [],
   "execution_count": 1
  },
  {
   "metadata": {
    "ExecuteTime": {
     "end_time": "2024-07-10T13:52:17.583887Z",
     "start_time": "2024-07-10T13:52:17.573442Z"
    }
   },
   "cell_type": "code",
   "source": "%pwd",
   "id": "d26db3eb5f13d25a",
   "outputs": [
    {
     "data": {
      "text/plain": [
       "'C:\\\\Users\\\\hp\\\\Desktop\\\\Sub\\\\Text_Summarizer_NLP\\\\research'"
      ]
     },
     "execution_count": 2,
     "metadata": {},
     "output_type": "execute_result"
    }
   ],
   "execution_count": 2
  },
  {
   "metadata": {
    "ExecuteTime": {
     "end_time": "2024-07-10T14:02:27.074034Z",
     "start_time": "2024-07-10T14:02:27.065479Z"
    }
   },
   "cell_type": "code",
   "source": "os.chdir(\"../\")",
   "id": "f16d079b3fc821e3",
   "outputs": [],
   "execution_count": 3
  },
  {
   "metadata": {
    "ExecuteTime": {
     "end_time": "2024-07-10T14:02:31.348706Z",
     "start_time": "2024-07-10T14:02:31.339238Z"
    }
   },
   "cell_type": "code",
   "source": "%pwd",
   "id": "1f42ecbae4e41340",
   "outputs": [
    {
     "data": {
      "text/plain": [
       "'C:\\\\Users\\\\hp\\\\Desktop\\\\Sub\\\\Text_Summarizer_NLP'"
      ]
     },
     "execution_count": 4,
     "metadata": {},
     "output_type": "execute_result"
    }
   ],
   "execution_count": 4
  },
  {
   "metadata": {
    "ExecuteTime": {
     "end_time": "2024-07-10T14:08:00.907902Z",
     "start_time": "2024-07-10T14:08:00.893191Z"
    }
   },
   "cell_type": "code",
   "source": [
    "from dataclasses import dataclass\n",
    "from pathlib import Path\n",
    "\n",
    "@dataclass(frozen=True)\n",
    "class DataTransformationConfig:\n",
    "    root_dir: Path\n",
    "    data_path: Path\n",
    "    tokenizer_name: Path"
   ],
   "id": "fd9e910e37304304",
   "outputs": [],
   "execution_count": 5
  },
  {
   "metadata": {
    "ExecuteTime": {
     "end_time": "2024-07-10T14:12:31.003492Z",
     "start_time": "2024-07-10T14:12:30.810545Z"
    }
   },
   "cell_type": "code",
   "source": [
    "from src.textsummarizer.constants import *\n",
    "from src.textsummarizer.utils.common import read_yaml, create_directories"
   ],
   "id": "9df7b2dd2a8f13cf",
   "outputs": [],
   "execution_count": 6
  },
  {
   "metadata": {
    "ExecuteTime": {
     "end_time": "2024-07-10T15:46:28.358194Z",
     "start_time": "2024-07-10T15:46:28.326361Z"
    }
   },
   "cell_type": "code",
   "source": [
    "class ConfigurationManager:\n",
    "    def __init__(self, config_filepath= CONFIG_FILE_PATH, params_filepath=PARAMS_FILE_PATH):\n",
    "        \n",
    "        self.config = read_yaml(config_filepath)\n",
    "        self.params = read_yaml(params_filepath)\n",
    "        \n",
    "        create_directories([self.config.artifacts_root])"
   ],
   "id": "4802b2b7ebb65f37",
   "outputs": [],
   "execution_count": 8
  },
  {
   "metadata": {
    "ExecuteTime": {
     "end_time": "2024-07-10T16:06:11.017643Z",
     "start_time": "2024-07-10T16:06:10.973061Z"
    }
   },
   "cell_type": "code",
   "source": [
    "def get_data_transformation_config(self) -> DataTransformationConfig:\n",
    "    config = self.config.data_transformation\n",
    "    \n",
    "    create_directories([config.rot_dir])\n",
    "    \n",
    "    data_transformation_config=DataTransformationConfig(\n",
    "        root_dir=config.root_dir,\n",
    "        data_path=config.data_path,\n",
    "        tokenizer_name=config.tokenizer_name)\n",
    "        \n",
    "    return data_transformation_config"
   ],
   "id": "eb3e32d61535b698",
   "outputs": [],
   "execution_count": 9
  },
  {
   "metadata": {
    "ExecuteTime": {
     "end_time": "2024-07-10T16:21:47.768625Z",
     "start_time": "2024-07-10T16:21:42.100153Z"
    }
   },
   "cell_type": "code",
   "source": [
    "from src.textsummarizer.logging import logger\n",
    "from transformers import AutoTokenizer\n",
    "from datasets import load_dataset, load_from_disk   "
   ],
   "id": "2b433ea5fbab5a38",
   "outputs": [
    {
     "name": "stdout",
     "output_type": "stream",
     "text": [
      "[2024-07-10 21:51:46,727: INFO: config: PyTorch version 2.3.1 available.]\n"
     ]
    }
   ],
   "execution_count": 15
  },
  {
   "metadata": {
    "ExecuteTime": {
     "end_time": "2024-07-10T16:10:47.164001Z",
     "start_time": "2024-07-10T16:10:47.151356Z"
    }
   },
   "cell_type": "code",
   "source": [
    "class DataTransformation:\n",
    "    def __init__(self, config:DataTransformationConfig):\n",
    "        self.config = config\n",
    "        self.tokenizer =AutoTokenizer.from_pretrained(config.tokenizer_name)"
   ],
   "id": "feb06d601b35d26a",
   "outputs": [],
   "execution_count": 10
  },
  {
   "metadata": {
    "ExecuteTime": {
     "end_time": "2024-07-10T16:25:31.252888Z",
     "start_time": "2024-07-10T16:25:28.528787Z"
    }
   },
   "cell_type": "code",
   "source": "!pip install pyyaml==5.1",
   "id": "de738f024a70d434",
   "outputs": [
    {
     "name": "stdout",
     "output_type": "stream",
     "text": [
      "Defaulting to user installation because normal site-packages is not writeable\n",
      "Requirement already satisfied: pyyaml==5.1 in c:\\users\\hp\\appdata\\roaming\\python\\python312\\site-packages (5.1)\n"
     ]
    },
    {
     "name": "stderr",
     "output_type": "stream",
     "text": [
      "WARNING: Skipping C:\\Users\\hp\\AppData\\Roaming\\Python\\Python312\\site-packages\\PyYAML-6.0.1.dist-info due to invalid metadata entry 'name'\n",
      "WARNING: Skipping C:\\Users\\hp\\AppData\\Roaming\\Python\\Python312\\site-packages\\PyYAML-6.0.1.dist-info due to invalid metadata entry 'name'\n",
      "WARNING: Skipping C:\\Users\\hp\\AppData\\Roaming\\Python\\Python312\\site-packages\\PyYAML-6.0.1.dist-info due to invalid metadata entry 'name'\n"
     ]
    }
   ],
   "execution_count": 16
  },
  {
   "metadata": {
    "ExecuteTime": {
     "end_time": "2024-07-10T16:39:08.530933Z",
     "start_time": "2024-07-10T16:39:08.173130Z"
    }
   },
   "cell_type": "code",
   "source": [
    "class DataTransformation:\n",
    "    def __init__(self, config:DataTransformationConfig):\n",
    "        self.config=config\n",
    "        self.tokenizer =AutoTokenizer.from_pretrained(config.tokenizer_name)"
   ],
   "id": "cb0b16228e118559",
   "outputs": [],
   "execution_count": 17
  },
  {
   "metadata": {},
   "cell_type": "code",
   "outputs": [],
   "execution_count": null,
   "source": "",
   "id": "fb6952bcb9b5d7fd"
  }
 ],
 "metadata": {
  "kernelspec": {
   "display_name": "Python 3",
   "language": "python",
   "name": "python3"
  },
  "language_info": {
   "codemirror_mode": {
    "name": "ipython",
    "version": 2
   },
   "file_extension": ".py",
   "mimetype": "text/x-python",
   "name": "python",
   "nbconvert_exporter": "python",
   "pygments_lexer": "ipython2",
   "version": "2.7.6"
  }
 },
 "nbformat": 4,
 "nbformat_minor": 5
}
