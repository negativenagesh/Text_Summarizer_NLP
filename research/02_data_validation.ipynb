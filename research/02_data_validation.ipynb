{
 "cells": [
  {
   "cell_type": "code",
   "id": "initial_id",
   "metadata": {
    "collapsed": true,
    "ExecuteTime": {
     "end_time": "2024-07-10T03:45:05.983429Z",
     "start_time": "2024-07-10T03:45:05.976750Z"
    }
   },
   "source": "import os",
   "outputs": [],
   "execution_count": 1
  },
  {
   "metadata": {
    "ExecuteTime": {
     "end_time": "2024-07-10T03:45:12.499282Z",
     "start_time": "2024-07-10T03:45:12.404791Z"
    }
   },
   "cell_type": "code",
   "source": "%pwd",
   "id": "2d01b038283f515d",
   "outputs": [
    {
     "data": {
      "text/plain": [
       "'C:\\\\Users\\\\hp\\\\Desktop\\\\Sub\\\\Text_Summarizer_NLP\\\\research'"
      ]
     },
     "execution_count": 2,
     "metadata": {},
     "output_type": "execute_result"
    }
   ],
   "execution_count": 2
  },
  {
   "metadata": {
    "ExecuteTime": {
     "end_time": "2024-07-10T03:45:38.027436Z",
     "start_time": "2024-07-10T03:45:38.000090Z"
    }
   },
   "cell_type": "code",
   "source": "os.chdir(\"../\")",
   "id": "4790a2d569e09e51",
   "outputs": [],
   "execution_count": 3
  },
  {
   "metadata": {
    "ExecuteTime": {
     "end_time": "2024-07-10T03:45:44.517608Z",
     "start_time": "2024-07-10T03:45:44.507532Z"
    }
   },
   "cell_type": "code",
   "source": "%pwd",
   "id": "ff9f858eb504a69d",
   "outputs": [
    {
     "data": {
      "text/plain": [
       "'C:\\\\Users\\\\hp\\\\Desktop\\\\Sub\\\\Text_Summarizer_NLP'"
      ]
     },
     "execution_count": 4,
     "metadata": {},
     "output_type": "execute_result"
    }
   ],
   "execution_count": 4
  },
  {
   "metadata": {
    "ExecuteTime": {
     "end_time": "2024-07-10T03:54:43.303775Z",
     "start_time": "2024-07-10T03:54:43.291225Z"
    }
   },
   "cell_type": "code",
   "source": [
    "from dataclasses import dataclass\n",
    "from pathlib import Path\n",
    "\n",
    "@dataclass(frozen=True)\n",
    "class DataValidationConfig:\n",
    "    root_dir: Path\n",
    "    STATUS_FILE : str\n",
    "    ALL_REQUIRED_FILES : list"
   ],
   "id": "4fec865fc5f7e8d8",
   "outputs": [],
   "execution_count": 5
  },
  {
   "metadata": {
    "ExecuteTime": {
     "end_time": "2024-07-10T03:55:01.420667Z",
     "start_time": "2024-07-10T03:55:01.257799Z"
    }
   },
   "cell_type": "code",
   "source": [
    "from src.textsummarizer.constants import *\n",
    "from src.textsummarizer.utils.common import read_yaml, create_directories"
   ],
   "id": "d5f3c085e4921c28",
   "outputs": [],
   "execution_count": 6
  },
  {
   "metadata": {
    "ExecuteTime": {
     "end_time": "2024-07-10T04:04:09.697497Z",
     "start_time": "2024-07-10T04:04:09.684197Z"
    }
   },
   "cell_type": "code",
   "source": [
    "class ConfigurationManager:\n",
    "    def __init__(self, config_filepath= CONFIG_FILE_PATH, params_filepath=PARAMS_FILE_PATH):\n",
    "        \n",
    "        self.config = read_yaml(config_filepath)\n",
    "        self.params = read_yaml(params_filepath)\n",
    "        \n",
    "        create_directories([self.config.artifacts_root])\n",
    "        \n",
    "        \n",
    "    def get_data_validation_config(self) -> DataValidationConfig:\n",
    "        config = self.config.data_validation\n",
    "        \n",
    "        create_directories([config.root_dir]) \n",
    "        \n",
    "        data_validation_config = DataValidationConfig(\n",
    "            root_dir=config.root_dir,\n",
    "            STATUS_FILE =config.STATUS_FILE,\n",
    "            ALL_REQUIRED_FILES=config.ALL_REQUIRED_FILES,\n",
    "        )\n",
    "        \n",
    "        return data_validation_config\n",
    "        "
   ],
   "id": "893adaa77b55cfcb",
   "outputs": [],
   "execution_count": 7
  },
  {
   "metadata": {
    "ExecuteTime": {
     "end_time": "2024-07-10T04:05:29.051283Z",
     "start_time": "2024-07-10T04:05:29.046940Z"
    }
   },
   "cell_type": "code",
   "source": [
    "import os\n",
    "from src.textsummarizer.logging import logger"
   ],
   "id": "90bcb67d60a29212",
   "outputs": [],
   "execution_count": 12
  },
  {
   "metadata": {
    "ExecuteTime": {
     "end_time": "2024-07-10T04:18:03.219349Z",
     "start_time": "2024-07-10T04:18:03.209531Z"
    }
   },
   "cell_type": "code",
   "source": [
    "class DataValidation:\n",
    "    def __init__(self,config: DataValidationConfig):\n",
    "        self.config = config\n",
    "        \n",
    "    def validate_all_files_exist(self) -> bool:\n",
    "        try:\n",
    "            validation_status = None\n",
    "            \n",
    "            all_files = os.listdir(os.path.join(\"artifacts\",\"data_ingestion\",\"samsum_dataset\"))\n",
    "            \n",
    "            for file in all_files:\n",
    "                \n",
    "                if file not in self.config.ALL_REQUIRED_FILES:\n",
    "                    validation_status = False\n",
    "                    with open(self.config.STATUS_FILE,'w') as f:\n",
    "                        f.write(f\"Validation status: {validation_status}\")\n",
    "                \n",
    "                else:\n",
    "                    validation_status = True\n",
    "                    with open (self.config.STATUS_FILE,'w') as f:\n",
    "                        f.write(f\"Validation status: {validation_status}\")\n",
    "                        \n",
    "            return validation_status\n",
    "        \n",
    "        except Exception as e:\n",
    "            raise e"
   ],
   "id": "2e7c435f7d148ff",
   "outputs": [],
   "execution_count": 15
  },
  {
   "metadata": {
    "ExecuteTime": {
     "end_time": "2024-07-10T04:18:04.044595Z",
     "start_time": "2024-07-10T04:18:04.016589Z"
    }
   },
   "cell_type": "code",
   "source": [
    "try:\n",
    "    config = ConfigurationManager()\n",
    "    data_validation_config = config.get_data_validation_config()\n",
    "    data_validation = DataValidation(config=data_validation_config)\n",
    "    data_validation.validate_all_files_exist()\n",
    "except Exception as e:\n",
    "    raise e"
   ],
   "id": "8e937c3cc45a6b28",
   "outputs": [
    {
     "name": "stdout",
     "output_type": "stream",
     "text": [
      "[2024-07-10 09:48:04,022: INFO: common: yaml file: config\\config.yaml loaded successfully]\n",
      "[2024-07-10 09:48:04,027: INFO: common: yaml file: params.yaml loaded successfully]\n",
      "[2024-07-10 09:48:04,029: INFO: common: Directory created at: artifacts]\n",
      "[2024-07-10 09:48:04,031: INFO: common: Directory created at: artifacts/data_validation]\n"
     ]
    }
   ],
   "execution_count": 16
  },
  {
   "metadata": {},
   "cell_type": "code",
   "outputs": [],
   "execution_count": null,
   "source": "",
   "id": "a857fe75afacd141"
  }
 ],
 "metadata": {
  "kernelspec": {
   "display_name": "Python 3",
   "language": "python",
   "name": "python3"
  },
  "language_info": {
   "codemirror_mode": {
    "name": "ipython",
    "version": 2
   },
   "file_extension": ".py",
   "mimetype": "text/x-python",
   "name": "python",
   "nbconvert_exporter": "python",
   "pygments_lexer": "ipython2",
   "version": "2.7.6"
  }
 },
 "nbformat": 4,
 "nbformat_minor": 5
}
