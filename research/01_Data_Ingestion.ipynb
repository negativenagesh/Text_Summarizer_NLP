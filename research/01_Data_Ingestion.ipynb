{
 "cells": [
  {
   "cell_type": "code",
   "id": "initial_id",
   "metadata": {
    "collapsed": true,
    "ExecuteTime": {
     "end_time": "2024-07-07T17:56:32.077910Z",
     "start_time": "2024-07-07T17:56:32.074145Z"
    }
   },
   "source": "import os",
   "outputs": [],
   "execution_count": 1
  },
  {
   "metadata": {
    "ExecuteTime": {
     "end_time": "2024-07-07T17:56:47.012767Z",
     "start_time": "2024-07-07T17:56:47.001106Z"
    }
   },
   "cell_type": "code",
   "source": "%pwd",
   "id": "b2f969e2d572b097",
   "outputs": [
    {
     "data": {
      "text/plain": [
       "'C:\\\\Users\\\\hp\\\\Desktop\\\\Sub\\\\Text_Summarizer_NLP\\\\research'"
      ]
     },
     "execution_count": 2,
     "metadata": {},
     "output_type": "execute_result"
    }
   ],
   "execution_count": 2
  },
  {
   "metadata": {
    "ExecuteTime": {
     "end_time": "2024-07-07T17:57:10.499738Z",
     "start_time": "2024-07-07T17:57:10.495723Z"
    }
   },
   "cell_type": "code",
   "source": "os.chdir(\"../\")",
   "id": "7b76bd231e3a388",
   "outputs": [],
   "execution_count": 3
  },
  {
   "metadata": {
    "ExecuteTime": {
     "end_time": "2024-07-07T17:57:24.890314Z",
     "start_time": "2024-07-07T17:57:24.884477Z"
    }
   },
   "cell_type": "code",
   "source": "%pwd",
   "id": "e590987805e0dbd6",
   "outputs": [
    {
     "data": {
      "text/plain": [
       "'C:\\\\Users\\\\hp\\\\Desktop\\\\Sub\\\\Text_Summarizer_NLP'"
      ]
     },
     "execution_count": 4,
     "metadata": {},
     "output_type": "execute_result"
    }
   ],
   "execution_count": 4
  },
  {
   "metadata": {
    "ExecuteTime": {
     "end_time": "2024-07-07T18:10:45.989050Z",
     "start_time": "2024-07-07T18:10:45.961712Z"
    }
   },
   "cell_type": "code",
   "source": [
    "from dataclasses import dataclass\n",
    "from pathlib import Path\n",
    "\n",
    "@dataclass(frozen=True)\n",
    "class DataIngestionConfig:\n",
    "    root_dir: Path\n",
    "    source_URL: str\n",
    "    local_data_file: Path\n",
    "    unzip_dir:Path\n",
    "    "
   ],
   "id": "9a48c836c8675a65",
   "outputs": [],
   "execution_count": 5
  },
  {
   "metadata": {
    "ExecuteTime": {
     "end_time": "2024-07-07T18:35:13.266848Z",
     "start_time": "2024-07-07T18:35:13.253735Z"
    }
   },
   "cell_type": "code",
   "source": "from src.Text_Summarizer_NLP import *",
   "id": "c2b1863e931aecd9",
   "outputs": [],
   "execution_count": 30
  },
  {
   "metadata": {
    "ExecuteTime": {
     "end_time": "2024-07-07T18:32:53.409420Z",
     "start_time": "2024-07-07T18:32:53.396180Z"
    }
   },
   "cell_type": "code",
   "source": [
    "import sys\n",
    "import os\n",
    "sys.path.append(os.path.abspath(os.path.join(os.getcwd(), '..')))"
   ],
   "id": "a27d0e52b0391164",
   "outputs": [],
   "execution_count": 27
  },
  {
   "metadata": {
    "ExecuteTime": {
     "end_time": "2024-07-07T18:35:59.792956Z",
     "start_time": "2024-07-07T18:35:59.759965Z"
    }
   },
   "cell_type": "code",
   "source": "from src.Text_Summarizer_NLP.utils.common import read_yaml, create_directories\n",
   "id": "511d7a41a85d2c1c",
   "outputs": [
    {
     "ename": "ModuleNotFoundError",
     "evalue": "No module named 'Text_Summarizer_NLP.logging'",
     "output_type": "error",
     "traceback": [
      "\u001B[1;31m---------------------------------------------------------------------------\u001B[0m",
      "\u001B[1;31mModuleNotFoundError\u001B[0m                       Traceback (most recent call last)",
      "Cell \u001B[1;32mIn[34], line 1\u001B[0m\n\u001B[1;32m----> 1\u001B[0m \u001B[38;5;28;01mfrom\u001B[39;00m \u001B[38;5;21;01msrc\u001B[39;00m\u001B[38;5;21;01m.\u001B[39;00m\u001B[38;5;21;01mText_Summarizer_NLP\u001B[39;00m\u001B[38;5;21;01m.\u001B[39;00m\u001B[38;5;21;01mutils\u001B[39;00m\u001B[38;5;21;01m.\u001B[39;00m\u001B[38;5;21;01mcommon\u001B[39;00m \u001B[38;5;28;01mimport\u001B[39;00m read_yaml, create_directories\n",
      "File \u001B[1;32m~\\Desktop\\Sub\\Text_Summarizer_NLP\\src\\Text_Summarizer_NLP\\utils\\common.py:4\u001B[0m\n\u001B[0;32m      2\u001B[0m \u001B[38;5;28;01mfrom\u001B[39;00m \u001B[38;5;21;01mbox\u001B[39;00m\u001B[38;5;21;01m.\u001B[39;00m\u001B[38;5;21;01mexceptions\u001B[39;00m \u001B[38;5;28;01mimport\u001B[39;00m BoxValueError\n\u001B[0;32m      3\u001B[0m \u001B[38;5;28;01mimport\u001B[39;00m \u001B[38;5;21;01myaml\u001B[39;00m\n\u001B[1;32m----> 4\u001B[0m \u001B[38;5;28;01mfrom\u001B[39;00m \u001B[38;5;21;01mText_Summarizer_NLP\u001B[39;00m\u001B[38;5;21;01m.\u001B[39;00m\u001B[38;5;21;01mlogging\u001B[39;00m \u001B[38;5;28;01mimport\u001B[39;00m logger\n\u001B[0;32m      5\u001B[0m \u001B[38;5;28;01mfrom\u001B[39;00m \u001B[38;5;21;01mensure\u001B[39;00m \u001B[38;5;28;01mimport\u001B[39;00m ensure_annotations\n\u001B[0;32m      6\u001B[0m \u001B[38;5;28;01mfrom\u001B[39;00m \u001B[38;5;21;01mbox\u001B[39;00m \u001B[38;5;28;01mimport\u001B[39;00m ConfigBox\n",
      "\u001B[1;31mModuleNotFoundError\u001B[0m: No module named 'Text_Summarizer_NLP.logging'"
     ]
    }
   ],
   "execution_count": 34
  },
  {
   "metadata": {},
   "cell_type": "code",
   "outputs": [],
   "execution_count": null,
   "source": "",
   "id": "3507de4355eeb0c9"
  }
 ],
 "metadata": {
  "kernelspec": {
   "display_name": "Python 3",
   "language": "python",
   "name": "python3"
  },
  "language_info": {
   "codemirror_mode": {
    "name": "ipython",
    "version": 2
   },
   "file_extension": ".py",
   "mimetype": "text/x-python",
   "name": "python",
   "nbconvert_exporter": "python",
   "pygments_lexer": "ipython2",
   "version": "2.7.6"
  }
 },
 "nbformat": 4,
 "nbformat_minor": 5
}
