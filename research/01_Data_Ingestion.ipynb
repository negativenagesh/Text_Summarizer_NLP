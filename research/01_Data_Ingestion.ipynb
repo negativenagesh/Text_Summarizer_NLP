{
 "cells": [
  {
   "cell_type": "code",
   "execution_count": 1,
   "id": "initial_id",
   "metadata": {
    "ExecuteTime": {
     "end_time": "2024-07-09T05:04:38.721084Z",
     "start_time": "2024-07-09T05:04:38.712933Z"
    },
    "collapsed": true
   },
   "outputs": [],
   "source": [
    "import os"
   ]
  },
  {
   "cell_type": "code",
   "execution_count": 2,
   "id": "b2f969e2d572b097",
   "metadata": {
    "ExecuteTime": {
     "end_time": "2024-07-09T05:04:39.476605Z",
     "start_time": "2024-07-09T05:04:39.457812Z"
    }
   },
   "outputs": [
    {
     "data": {
      "text/plain": [
       "'d:\\\\Text_Summarizer_NLP\\\\research'"
      ]
     },
     "execution_count": 2,
     "metadata": {},
     "output_type": "execute_result"
    }
   ],
   "source": [
    "%pwd"
   ]
  },
  {
   "cell_type": "code",
   "execution_count": 5,
   "id": "7ec6c50797c88a19",
   "metadata": {
    "ExecuteTime": {
     "end_time": "2024-07-09T05:04:40.147751Z",
     "start_time": "2024-07-09T05:04:40.142566Z"
    }
   },
   "outputs": [],
   "source": [
    "os.chdir('D:\\\\Text_Summarizer_NLP')\n"
   ]
  },
  {
   "cell_type": "code",
   "execution_count": 6,
   "id": "e590987805e0dbd6",
   "metadata": {
    "ExecuteTime": {
     "end_time": "2024-07-09T05:04:40.620337Z",
     "start_time": "2024-07-09T05:04:40.612503Z"
    }
   },
   "outputs": [
    {
     "data": {
      "text/plain": [
       "'D:\\\\Text_Summarizer_NLP'"
      ]
     },
     "execution_count": 6,
     "metadata": {},
     "output_type": "execute_result"
    }
   ],
   "source": [
    "%pwd"
   ]
  },
  {
   "cell_type": "code",
   "execution_count": 7,
   "id": "9a48c836c8675a65",
   "metadata": {
    "ExecuteTime": {
     "end_time": "2024-07-09T05:04:41.073782Z",
     "start_time": "2024-07-09T05:04:41.063246Z"
    }
   },
   "outputs": [],
   "source": [
    "from dataclasses import dataclass\n",
    "from pathlib import Path\n",
    "\n",
    "@dataclass(frozen=True)\n",
    "class DataIngestionConfig:\n",
    "    root_dir: Path\n",
    "    source_URL: str\n",
    "    local_data_file: Path\n",
    "    unzip_dir: Path"
   ]
  },
  {
   "cell_type": "code",
   "execution_count": 8,
   "id": "c2b1863e931aecd9",
   "metadata": {
    "ExecuteTime": {
     "end_time": "2024-07-09T05:04:41.834272Z",
     "start_time": "2024-07-09T05:04:41.829418Z"
    }
   },
   "outputs": [],
   "source": [
    "from src.textsummarizer.constants import *\n",
    "from src.textsummarizer.utils.common import read_yaml, create_directories"
   ]
  },
  {
   "cell_type": "code",
   "execution_count": 9,
   "id": "40b9af9c6f70b523",
   "metadata": {
    "ExecuteTime": {
     "end_time": "2024-07-09T05:04:42.497938Z",
     "start_time": "2024-07-09T05:04:42.491288Z"
    }
   },
   "outputs": [],
   "source": [
    "class ConfigurationManager:\n",
    "    def __init__(self, config_filepath= CONFIG_FILE_PATH, params_filepath=PARAMS_FILE_PATH):\n",
    "        \n",
    "        self.config = read_yaml(config_filepath)\n",
    "        self.params = read_yaml(params_filepath)\n",
    "        \n",
    "        create_directories([self.config.artifacts_root])\n",
    "        \n",
    "        \n",
    "    def get_data_ingestion_config(self) -> DataIngestionConfig:\n",
    "        config = self.config.data_ingestion\n",
    "        \n",
    "        create_directories([config.root_dir])\n",
    "        \n",
    "        data_ingestion_config = DataIngestionConfig(\n",
    "            root_dir=config.root_dir,\n",
    "            local_data_file=config.local_data_file,\n",
    "            source_URL=config.source_URL,\n",
    "            unzip_dir=config.unzip_dir\n",
    "        )\n",
    "        \n",
    "        return data_ingestion_config"
   ]
  },
  {
   "cell_type": "code",
   "execution_count": 10,
   "id": "a83ae686670c54c8",
   "metadata": {
    "ExecuteTime": {
     "end_time": "2024-07-09T05:04:43.180040Z",
     "start_time": "2024-07-09T05:04:43.174059Z"
    }
   },
   "outputs": [],
   "source": [
    "import os\n",
    "import urllib.request as request\n",
    "import zipfile\n",
    "from src.textsummarizer.logging import logger\n",
    "from src.textsummarizer.utils.common import get_size"
   ]
  },
  {
   "cell_type": "code",
   "execution_count": 11,
   "id": "a103b1920084889d",
   "metadata": {
    "ExecuteTime": {
     "end_time": "2024-07-09T05:04:43.774026Z",
     "start_time": "2024-07-09T05:04:43.767381Z"
    }
   },
   "outputs": [],
   "source": [
    "class DataIngestion:\n",
    "    \n",
    "    def __init__(self,config: DataIngestionConfig):\n",
    "        self.config = config\n",
    "        \n",
    "    \n",
    "    def download_file(self):\n",
    "        if not os.path.exists(self.config.local_data_file):\n",
    "            filename,headers = request.urlretrieve(url = self.config.source_URL,filename = self.config.local_data_file)\n",
    "            logger.info(f\"{filename} download! with following info: \\n{headers}\")\n",
    "        else:\n",
    "            logger.info(f\"file already exists of size: {get_size(Path(self.config.local_data_file))}\")\n",
    "            \n",
    "            \n",
    "    def extract_zip_file(self):\n",
    "        \"\"\"\n",
    "        zip_file_path:str\n",
    "        extracts the zip file into the data directory\n",
    "        Function returns None\n",
    "        \"\"\"\n",
    "        unzip_path = self.config.unzip_dir\n",
    "        os.makedirs(unzip_path,exist_ok=True)\n",
    "        with zipfile.ZipFile(self.config.local_data_file,'r') as zip_ref:\n",
    "            zip_ref.extractall(unzip_path)"
   ]
  },
  {
   "cell_type": "code",
   "execution_count": 12,
   "id": "5b8ffa3d8f0512a",
   "metadata": {
    "ExecuteTime": {
     "end_time": "2024-07-09T05:04:48.362214Z",
     "start_time": "2024-07-09T05:04:45.099911Z"
    }
   },
   "outputs": [
    {
     "name": "stdout",
     "output_type": "stream",
     "text": [
      "[2024-07-30 21:27:34,001: INFO: common: yaml file: config\\config.yaml loaded successfully]\n",
      "[2024-07-30 21:27:34,009: INFO: common: yaml file: params.yaml loaded successfully]\n",
      "[2024-07-30 21:27:34,011: INFO: common: Directory created at: artifacts]\n",
      "[2024-07-30 21:27:34,011: INFO: common: Directory created at: artifacts/data_ingestion]\n",
      "[2024-07-30 21:27:34,012: INFO: 1869606533: file already exists of size: 7718 KB]\n"
     ]
    }
   ],
   "source": [
    "try:\n",
    "    config = ConfigurationManager()\n",
    "    data_ingestion_config = config.get_data_ingestion_config()\n",
    "    data_ingestion = DataIngestion(config=data_ingestion_config)\n",
    "    data_ingestion.download_file()\n",
    "    data_ingestion.extract_zip_file()\n",
    "except Exception as e:\n",
    "    raise e"
   ]
  }
 ],
 "metadata": {
  "kernelspec": {
   "display_name": "Python 3",
   "language": "python",
   "name": "python3"
  },
  "language_info": {
   "codemirror_mode": {
    "name": "ipython",
    "version": 3
   },
   "file_extension": ".py",
   "mimetype": "text/x-python",
   "name": "python",
   "nbconvert_exporter": "python",
   "pygments_lexer": "ipython3",
   "version": "3.9.19"
  }
 },
 "nbformat": 4,
 "nbformat_minor": 5
}
