{
 "cells": [
  {
   "cell_type": "code",
   "execution_count": 1,
   "id": "initial_id",
   "metadata": {
    "ExecuteTime": {
     "end_time": "2024-07-10T13:52:17.509508Z",
     "start_time": "2024-07-10T13:52:17.501947Z"
    },
    "collapsed": true
   },
   "outputs": [],
   "source": [
    "import os"
   ]
  },
  {
   "cell_type": "code",
   "execution_count": 2,
   "id": "d26db3eb5f13d25a",
   "metadata": {
    "ExecuteTime": {
     "end_time": "2024-07-10T13:52:17.583887Z",
     "start_time": "2024-07-10T13:52:17.573442Z"
    }
   },
   "outputs": [
    {
     "data": {
      "text/plain": [
       "'d:\\\\Text_Summarizer_NLP\\\\research'"
      ]
     },
     "execution_count": 2,
     "metadata": {},
     "output_type": "execute_result"
    }
   ],
   "source": [
    "%pwd"
   ]
  },
  {
   "cell_type": "code",
   "execution_count": 3,
   "id": "f16d079b3fc821e3",
   "metadata": {
    "ExecuteTime": {
     "end_time": "2024-07-10T14:02:27.074034Z",
     "start_time": "2024-07-10T14:02:27.065479Z"
    }
   },
   "outputs": [],
   "source": [
    "os.chdir(\"../\")"
   ]
  },
  {
   "cell_type": "code",
   "execution_count": 4,
   "id": "1f42ecbae4e41340",
   "metadata": {
    "ExecuteTime": {
     "end_time": "2024-07-10T14:02:31.348706Z",
     "start_time": "2024-07-10T14:02:31.339238Z"
    }
   },
   "outputs": [
    {
     "data": {
      "text/plain": [
       "'d:\\\\Text_Summarizer_NLP'"
      ]
     },
     "execution_count": 4,
     "metadata": {},
     "output_type": "execute_result"
    }
   ],
   "source": [
    "%pwd"
   ]
  },
  {
   "cell_type": "code",
   "execution_count": 5,
   "id": "fd9e910e37304304",
   "metadata": {
    "ExecuteTime": {
     "end_time": "2024-07-10T14:08:00.907902Z",
     "start_time": "2024-07-10T14:08:00.893191Z"
    }
   },
   "outputs": [],
   "source": [
    "from dataclasses import dataclass\n",
    "from pathlib import Path\n",
    "\n",
    "@dataclass(frozen=True)\n",
    "class DataTransformationConfig:\n",
    "    root_dir: Path\n",
    "    data_path: Path\n",
    "    tokenizer_name: Path"
   ]
  },
  {
   "cell_type": "code",
   "execution_count": 15,
   "id": "9df7b2dd2a8f13cf",
   "metadata": {
    "ExecuteTime": {
     "end_time": "2024-07-10T14:12:31.003492Z",
     "start_time": "2024-07-10T14:12:30.810545Z"
    }
   },
   "outputs": [],
   "source": [
    "from src.textsummarizer.constants import *\n",
    "from src.textsummarizer.utils.common import read_yaml, create_directories"
   ]
  },
  {
   "cell_type": "code",
   "execution_count": 9,
   "id": "4802b2b7ebb65f37",
   "metadata": {
    "ExecuteTime": {
     "end_time": "2024-07-10T15:46:28.358194Z",
     "start_time": "2024-07-10T15:46:28.326361Z"
    }
   },
   "outputs": [],
   "source": [
    "class ConfigurationManager:\n",
    "    def __init__(self, config_filepath= CONFIG_FILE_PATH, params_filepath=PARAMS_FILE_PATH):\n",
    "        \n",
    "        self.config = read_yaml(config_filepath)\n",
    "        self.params = read_yaml(params_filepath)\n",
    "        \n",
    "        create_directories([self.config.artifacts_root])"
   ]
  },
  {
   "cell_type": "code",
   "execution_count": 10,
   "id": "eb3e32d61535b698",
   "metadata": {
    "ExecuteTime": {
     "end_time": "2024-07-10T16:06:11.017643Z",
     "start_time": "2024-07-10T16:06:10.973061Z"
    }
   },
   "outputs": [],
   "source": [
    "def get_data_transformation_config(self) -> DataTransformationConfig:\n",
    "    config = self.config.data_transformation\n",
    "    \n",
    "    create_directories([config.rot_dir])\n",
    "    \n",
    "    data_transformation_config=DataTransformationConfig(\n",
    "        root_dir=config.root_dir,\n",
    "        data_path=config.data_path,\n",
    "        tokenizer_name=config.tokenizer_name)\n",
    "        \n",
    "    return data_transformation_config"
   ]
  },
  {
   "cell_type": "code",
   "execution_count": 11,
   "id": "2b433ea5fbab5a38",
   "metadata": {
    "ExecuteTime": {
     "end_time": "2024-07-10T16:21:47.768625Z",
     "start_time": "2024-07-10T16:21:42.100153Z"
    }
   },
   "outputs": [
    {
     "name": "stderr",
     "output_type": "stream",
     "text": [
      "c:\\Users\\pubgp\\.conda\\envs\\textsummarizer\\lib\\site-packages\\tqdm\\auto.py:21: TqdmWarning: IProgress not found. Please update jupyter and ipywidgets. See https://ipywidgets.readthedocs.io/en/stable/user_install.html\n",
      "  from .autonotebook import tqdm as notebook_tqdm\n"
     ]
    },
    {
     "name": "stdout",
     "output_type": "stream",
     "text": [
      "[2024-07-30 20:19:56,699: INFO: config: PyTorch version 2.3.1 available.]\n"
     ]
    }
   ],
   "source": [
    "from src.textsummarizer.logging import logger\n",
    "from transformers import AutoTokenizer\n",
    "from datasets import load_dataset, load_from_disk   "
   ]
  },
  {
   "cell_type": "code",
   "execution_count": 12,
   "id": "feb06d601b35d26a",
   "metadata": {
    "ExecuteTime": {
     "end_time": "2024-07-10T16:10:47.164001Z",
     "start_time": "2024-07-10T16:10:47.151356Z"
    }
   },
   "outputs": [],
   "source": [
    "class DataTransformation:\n",
    "    def __init__(self, config:DataTransformationConfig):\n",
    "        self.config = config\n",
    "        self.tokenizer =AutoTokenizer.from_pretrained(config.tokenizer_name)"
   ]
  },
  {
   "cell_type": "code",
   "execution_count": 13,
   "id": "de738f024a70d434",
   "metadata": {
    "ExecuteTime": {
     "end_time": "2024-07-10T16:25:31.252888Z",
     "start_time": "2024-07-10T16:25:28.528787Z"
    }
   },
   "outputs": [
    {
     "name": "stdout",
     "output_type": "stream",
     "text": [
      "Collecting pyyaml==5.1\n",
      "  Downloading PyYAML-5.1.tar.gz (274 kB)\n",
      "     ---------------------------------------- 0.0/274.2 kB ? eta -:--:--\n",
      "     ----- ------------------------------- 41.0/274.2 kB 960.0 kB/s eta 0:00:01\n",
      "     ------------------------------------ - 266.2/274.2 kB 3.3 MB/s eta 0:00:01\n",
      "     -------------------------------------- 274.2/274.2 kB 2.8 MB/s eta 0:00:00\n",
      "  Preparing metadata (setup.py): started\n",
      "  Preparing metadata (setup.py): finished with status 'done'\n",
      "Building wheels for collected packages: pyyaml\n",
      "  Building wheel for pyyaml (setup.py): started\n",
      "  Building wheel for pyyaml (setup.py): finished with status 'done'\n",
      "  Created wheel for pyyaml: filename=PyYAML-5.1-cp39-cp39-win_amd64.whl size=44102 sha256=5385bcd5f0d34c1de6646c06b3a953bd95e312aa0023b6a36fafed258aa80110\n",
      "  Stored in directory: c:\\users\\pubgp\\appdata\\local\\pip\\cache\\wheels\\68\\be\\8f\\b6c454cd264e0b349b47f8ee00755511f277618af9e5dae20d\n",
      "Successfully built pyyaml\n",
      "Installing collected packages: pyyaml\n",
      "  Attempting uninstall: pyyaml\n",
      "    Found existing installation: PyYAML 6.0.1\n",
      "    Uninstalling PyYAML-6.0.1:\n",
      "      Successfully uninstalled PyYAML-6.0.1\n",
      "Successfully installed pyyaml-5.1\n",
      "Note: you may need to restart the kernel to use updated packages.\n"
     ]
    },
    {
     "name": "stderr",
     "output_type": "stream",
     "text": [
      "  WARNING: Failed to remove contents in a temporary directory 'C:\\Users\\pubgp\\.conda\\envs\\textsummarizer\\Lib\\site-packages\\~aml'.\n",
      "  You can safely remove it manually.\n"
     ]
    }
   ],
   "source": [
    "%pip install pyyaml==5.1"
   ]
  },
  {
   "cell_type": "code",
   "execution_count": 14,
   "id": "cb0b16228e118559",
   "metadata": {
    "ExecuteTime": {
     "end_time": "2024-07-10T16:39:08.530933Z",
     "start_time": "2024-07-10T16:39:08.173130Z"
    }
   },
   "outputs": [],
   "source": [
    "class DataTransformation:\n",
    "    def __init__(self, config:DataTransformationConfig):\n",
    "        self.config=config\n",
    "        self.tokenizer =AutoTokenizer.from_pretrained(config.tokenizer_name)"
   ]
  },
  {
   "cell_type": "code",
   "execution_count": null,
   "id": "fb6952bcb9b5d7fd",
   "metadata": {},
   "outputs": [],
   "source": []
  }
 ],
 "metadata": {
  "kernelspec": {
   "display_name": "Python 3",
   "language": "python",
   "name": "python3"
  },
  "language_info": {
   "codemirror_mode": {
    "name": "ipython",
    "version": 3
   },
   "file_extension": ".py",
   "mimetype": "text/x-python",
   "name": "python",
   "nbconvert_exporter": "python",
   "pygments_lexer": "ipython3",
   "version": "3.9.19"
  }
 },
 "nbformat": 4,
 "nbformat_minor": 5
}
